{
 "cells": [
  {
   "cell_type": "code",
   "execution_count": null,
   "id": "d60ef3e2",
   "metadata": {},
   "outputs": [],
   "source": [
    "# Q1. Explain with an example each when to use a for loop and while loop.\n",
    "# ->. Use a for loop when you know the loop should execute how many times.\n",
    "#  Use a while loop for reading a file into a variable. Use a while loop when asking for user input.\n",
    "#  Use a while loop when the increment value is nonstandard"
   ]
  },
  {
   "cell_type": "code",
   "execution_count": null,
   "id": "443cc1f9",
   "metadata": {},
   "outputs": [],
   "source": [
    "# For loop Example:\n",
    "l1 = [\"sudh\" ,\"kumar\" , \"krish\" ,\"naik\"]\n",
    "for i in l1 :\n",
    "    print(i)\n"
   ]
  },
  {
   "cell_type": "code",
   "execution_count": null,
   "id": "5fe56c32",
   "metadata": {},
   "outputs": [],
   "source": [
    "#  While loop Example:\n",
    "a=int(input(\"Enter the number:\"))\n",
    "i=1\n",
    "while i<=10:\n",
    "    print(i*a)\n",
    "    i=i+1"
   ]
  },
  {
   "cell_type": "code",
   "execution_count": null,
   "id": "3dbd3cc9",
   "metadata": {},
   "outputs": [],
   "source": [
    "# Q2. Write a Python program to print the sum and product of first 10 natural number using for and while loop."
   ]
  },
  {
   "cell_type": "code",
   "execution_count": 5,
   "id": "4135fa0f",
   "metadata": {},
   "outputs": [
    {
     "name": "stdout",
     "output_type": "stream",
     "text": [
      "Select below option:\n",
      "            1.Sum of n natural number\n",
      "            2. Product of n natural number:1\n",
      "Enter the value:5\n",
      "The sum is: 15\n"
     ]
    }
   ],
   "source": [
    "#  Python program to print the sum and product of first 10 natural number:\n",
    "\n",
    "# Using for loop:\n",
    "\n",
    "a=int(input(\"\"\"Select below option:\n",
    "            1.Sum of n natural number\n",
    "            2. Product of n natural number:\"\"\"))\n",
    "b=int(input(\"Enter the value:\"))\n",
    "sum=0\n",
    "product=1\n",
    "if a==1:\n",
    "    for i in range(b+1):\n",
    "        sum=sum+i\n",
    "    print(\"The sum is:\",sum)\n",
    "elif a==2:\n",
    "    for i in range(b):\n",
    "        product=product*(i+1)\n",
    "        \n",
    "    print(\"The product is:\",product)"
   ]
  },
  {
   "cell_type": "code",
   "execution_count": 3,
   "id": "bab1781c",
   "metadata": {},
   "outputs": [
    {
     "name": "stdout",
     "output_type": "stream",
     "text": [
      "Select below option:\n",
      "            1.Sum of n natural number\n",
      "            2. Product of n natural number:2\n",
      "Enter the value:3\n",
      "The product is: 6\n"
     ]
    }
   ],
   "source": [
    "# Using for while loop:\n",
    "\n",
    "a = int(input(\"\"\"Select below option:\n",
    "            1.Sum of n natural number\n",
    "            2. Product of n natural number:\"\"\"))\n",
    "b = int(input(\"Enter the value:\"))\n",
    "sum = 0\n",
    "product = 1\n",
    "i = 0\n",
    "if a == 1:\n",
    "    while (i <= b):\n",
    "        sum = sum + i\n",
    "        i = i + 1\n",
    "    print(\"The sum is: \", sum)\n",
    "\n",
    "elif a == 2:\n",
    "    while (i <= (b-1)):\n",
    "        product = (product) * (i+1)\n",
    "        i = i+1\n",
    "    print(\"The product is:\", product)\n"
   ]
  },
  {
   "cell_type": "code",
   "execution_count": 12,
   "id": "2d62f6b6",
   "metadata": {},
   "outputs": [],
   "source": [
    "# Q3. Create a python program to compute the electricity bill for a household.\n",
    "# The per-unit charges in rupees are as follows: For the first 100 units, the user will be charged Rs. 4.5 per unit, for the next 100 units, the user will be charged Rs. 6 per unit, and for the next 100 units, the user will be charged Rs. 10 per unit, After 300 units and above the user will be charged Rs. 20 per unit.\n",
    "\n",
    "# You are required to take the units of electricity consumed in a month from the user as input.\n",
    "\n",
    "# Your program must pass this test case: when the unit of electricity consumed by the user in a month is 310, the total electricity bill should be 2250."
   ]
  },
  {
   "cell_type": "code",
   "execution_count": null,
   "id": "d4324538",
   "metadata": {},
   "outputs": [],
   "source": [
    "a = int(input(\"Enter the monthly units number of household:\"))\n",
    "amount = 0\n",
    "\n",
    "for i in range(1,a+1):\n",
    "    if i<=100:\n",
    "        amount = amount + 4.5\n",
    "    elif (i >100 and i <=200):\n",
    "        amount = amount + 6\n",
    "    elif (i >200 and i <=300):\n",
    "        amount = amount + 10\n",
    "    elif(i>300):\n",
    "        amount = amount + 20 \n",
    "print(f\"Your total monthly electricity bill is :\",amount)\n",
    "                "
   ]
  },
  {
   "cell_type": "code",
   "execution_count": 4,
   "id": "4d76b381",
   "metadata": {},
   "outputs": [],
   "source": [
    "# Q4. Create a list of numbers from 1 to 100. Use for loop and while loop to calculate the cube of each number and if the cube of that number is divisible by 4 or 5 then append that number in a list and print that list."
   ]
  },
  {
   "cell_type": "code",
   "execution_count": null,
   "id": "8550b1a2",
   "metadata": {},
   "outputs": [],
   "source": [
    "# print(\"Using For loop.\")\n",
    "# list_num = list(range(1,101))\n",
    "# list_val = []\n",
    "# for index in range(len(list_num)):\n",
    "#     cube_val = list_num[index] **3\n",
    "#     if ((cube_val%4==0)or(cube_val%5==0)):\n",
    "#         list_val.append(list_num[index])\n",
    "# print(list_val)        \n",
    "# print(\"Using While loop.\")\n",
    "# list_val.clear()\n",
    "# index = 0\n",
    "# while(index<len(list_num)):\n",
    "#     cube_val = list_num[index] **3\n",
    "#     if ((cube_val%4==0)or(cube_val%5==0)):\n",
    "#         list_val.append(list_num[index])\n",
    "#     index = index+1  \n",
    "# print(list_val)\n",
    "\n",
    "print(\"Printing the numbers using for loop\")\n",
    "l=list(range(1,101))\n",
    "l1=[]\n",
    "for i in range(len(l)):\n",
    "    cube_value=l[i]**3\n",
    "    if((cube_value%4==0) or (cube_value%5==0)):\n",
    "        l1.append(l[i])\n",
    "print(l1)\n",
    "print(\"\")\n",
    "print(\"Printing the numbers using for loop\")\n",
    "l=list(range(1,101))\n",
    "l1=[]\n",
    "i=0\n",
    "while(i<len(l)):\n",
    "    cube_value=l[i]**3\n",
    "    if((cube_value%4==0) or (cube_value%5==0)):\n",
    "        l1.append(l[i])\n",
    "        i=i+1\n",
    "print(l1)\n",
    "    \n"
   ]
  },
  {
   "cell_type": "code",
   "execution_count": null,
   "id": "5093ad4f",
   "metadata": {},
   "outputs": [],
   "source": [
    "# Q5.  Write a program to filter count vowels in the below-given string.\n",
    "\n",
    "# string = \"I want to become a data scientist\""
   ]
  },
  {
   "cell_type": "code",
   "execution_count": 17,
   "id": "ab029841",
   "metadata": {},
   "outputs": [
    {
     "name": "stdout",
     "output_type": "stream",
     "text": [
      "Enter the string:\"I want to become a data scientist\"\n",
      "Total string are: 12\n"
     ]
    }
   ],
   "source": [
    "string=input(\"Enter the string:\")\n",
    "s=string.count(\"a\")+string.count(\"e\")+string.count(\"i\")+string.count(\"o\")+string.count(\"u\")+string.count(\"A\")+string.count(\"E\")+string.count(\"I\")+string.count(\"O\")+string.count(\"U\")\n",
    "print(\"Total string are:\",s)"
   ]
  }
 ],
 "metadata": {
  "kernelspec": {
   "display_name": "Python 3 (ipykernel)",
   "language": "python",
   "name": "python3"
  },
  "language_info": {
   "codemirror_mode": {
    "name": "ipython",
    "version": 3
   },
   "file_extension": ".py",
   "mimetype": "text/x-python",
   "name": "python",
   "nbconvert_exporter": "python",
   "pygments_lexer": "ipython3",
   "version": "3.9.7"
  }
 },
 "nbformat": 4,
 "nbformat_minor": 5
}
