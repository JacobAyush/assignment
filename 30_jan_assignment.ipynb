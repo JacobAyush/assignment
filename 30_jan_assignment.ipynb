{
 "cells": [
  {
   "cell_type": "code",
   "execution_count": 1,
   "id": "897fa77e",
   "metadata": {},
   "outputs": [],
   "source": [
    "#Q1. Write a program to accept percentage from the user and display the grade according to the following criteria:\n",
    "# Marks           Grade\n",
    "# >90               A\n",
    "# >80  and <=90     B\n",
    "# >=60 and <=80     C\n",
    "# below             D"
   ]
  },
  {
   "cell_type": "code",
   "execution_count": 9,
   "id": "dcee39d9",
   "metadata": {},
   "outputs": [
    {
     "name": "stdout",
     "output_type": "stream",
     "text": [
      "Enter the Percentage:93\n",
      "You get A Grade\n"
     ]
    }
   ],
   "source": [
    "marks=int(input(\"Enter the Percentage:\"))\n",
    "if(marks>90 and marks<=100):\n",
    "    print(\"You get A Grade\")\n",
    "elif(marks>80 and marks<=90):\n",
    "    print(\"You get B Grade\")\n",
    "elif(marks>=60 and marks<=80):\n",
    "    print(\"You get C Grade\")\n",
    "elif(marks<60):\n",
    "    print(\"You get D Grade\")\n",
    "else:\n",
    "    print(\"Check your Marks again\")"
   ]
  },
  {
   "cell_type": "code",
   "execution_count": 10,
   "id": "6bb8c144",
   "metadata": {},
   "outputs": [],
   "source": [
    "#Q2.   Write a program to accept the cost price of a bike and display the road tax to be paid according to the following criteria:\n",
    "# Tax             Cost Price(in Rs)\n",
    "# 15%             >100000\n",
    "# 10%             >50000 and <=100000\n",
    "# 5%              <=50000"
   ]
  },
  {
   "cell_type": "code",
   "execution_count": 18,
   "id": "23dcc086",
   "metadata": {},
   "outputs": [
    {
     "name": "stdout",
     "output_type": "stream",
     "text": [
      "Enter the cost price of the bike:1000000\n",
      "You have to pay 15% road tax\n"
     ]
    }
   ],
   "source": [
    "cp=int(input(\"Enter the cost price of the bike:\"))\n",
    "if(cp>100000 ):\n",
    "    print(\"You have to pay 15% road tax\")\n",
    "elif(cp>50000 and cp<=100000):\n",
    "    print(\"You have to pay 10% road tax\")\n",
    "elif(cp<=50000):\n",
    "    print(\"You have to pay 5% road tax\")\n",
    "else:\n",
    "    print(\"Check the cost price of bike agian \")"
   ]
  },
  {
   "cell_type": "code",
   "execution_count": 19,
   "id": "dcaf0e13",
   "metadata": {},
   "outputs": [],
   "source": [
    "#Q3. Accept any city from the user an ddisplay monuments of that city.\n",
    "# City      Monument\n",
    "# Delhi     Red Fort  \n",
    "# Agra      Taj Mahal\n",
    "# Jaipur    Jal Mahal"
   ]
  },
  {
   "cell_type": "code",
   "execution_count": 46,
   "id": "0b00e1dd",
   "metadata": {},
   "outputs": [
    {
     "name": "stdout",
     "output_type": "stream",
     "text": [
      "Enter the city:Delhi\n",
      "Red Fort\n"
     ]
    }
   ],
   "source": [
    "city=str(input(\"Enter the city:\"))\n",
    "if(city == \"Delhi\"):\n",
    "    print(\"Red Fort\")\n",
    "elif(city==\"Agra\"):\n",
    "    print(\"Taj Mahal\")\n",
    "elif(city==\"Jaipur\"):\n",
    "    print(\"Jal Mahal\")\n",
    "else:\n",
    "    print(\"Enter city Delhi, Agra or Jaipur\")"
   ]
  },
  {
   "cell_type": "code",
   "execution_count": 9,
   "id": "2775bf18",
   "metadata": {},
   "outputs": [],
   "source": [
    "# Q4. Check how many times a given number can be divided by 3 before it is less than or equal to 10"
   ]
  },
  {
   "cell_type": "code",
   "execution_count": 11,
   "id": "734fd81d",
   "metadata": {},
   "outputs": [
    {
     "name": "stdout",
     "output_type": "stream",
     "text": [
      "Enter the number:890\n",
      "Total iteration required 5\n"
     ]
    }
   ],
   "source": [
    "n=int(input(\"Enter the number:\"))\n",
    "count = 0\n",
    "while n > 10:\n",
    "    # divide number by 3\n",
    "    n = n / 3\n",
    "    # increase count\n",
    "    count = count + 1\n",
    "print('Total iteration required', count)\n",
    "# 180=1+8+0=9\n",
    "# 9/3=3"
   ]
  },
  {
   "cell_type": "code",
   "execution_count": 13,
   "id": "2d40336f",
   "metadata": {},
   "outputs": [],
   "source": [
    "# Q5. Why and when to use while loop in python give a detail description with example.\n",
    "# ->. while loop is used to run a block code until a certain condition is met. \n",
    "# Here, A while loop evaluates the condition. If the condition evaluates to True , the code inside the while loop is executed.\n",
    "# A \"While\" Loop is used to repeat a specific block of code an unknown number of times, until a condition is met.\n",
    "# For example, if we want to ask a user for a number between 1 and 10,\n",
    "# we don't know how many times the user may enter a larger number, so we keep asking \"while the number is not between 1 and 10\".\n"
   ]
  },
  {
   "cell_type": "code",
   "execution_count": 19,
   "id": "8bbacd8a",
   "metadata": {},
   "outputs": [
    {
     "name": "stdout",
     "output_type": "stream",
     "text": [
      "Enter the number:6\n",
      "The table of 6  is 6\n",
      "The table of 6  is 12\n",
      "The table of 6  is 18\n",
      "The table of 6  is 24\n",
      "The table of 6  is 30\n",
      "The table of 6  is 36\n",
      "The table of 6  is 42\n",
      "The table of 6  is 48\n",
      "The table of 6  is 54\n",
      "The table of 6  is 60\n"
     ]
    }
   ],
   "source": [
    "n=int(input(\"Enter the number:\"))\n",
    "i=1\n",
    "while i<=10:\n",
    "    print(\"The table of\",n,\" is\",n*i)\n",
    "    i=i+1"
   ]
  },
  {
   "cell_type": "code",
   "execution_count": 20,
   "id": "1ebfb202",
   "metadata": {},
   "outputs": [],
   "source": [
    "# Q6. Use nested while loop to print 3 different pattern."
   ]
  },
  {
   "cell_type": "code",
   "execution_count": 1,
   "id": "9ff9ed2d",
   "metadata": {},
   "outputs": [
    {
     "name": "stdout",
     "output_type": "stream",
     "text": [
      "Enter number of rows : 9\n",
      "* \n",
      "* * \n",
      "* * * \n",
      "* * * * \n",
      "* * * * * \n",
      "* * * * * * \n",
      "* * * * * * * \n",
      "* * * * * * * * \n",
      "* * * * * * * * * \n"
     ]
    }
   ],
   "source": [
    "n = int(input('Enter number of rows : '))\n",
    "\n",
    "i = 1\n",
    "while i <= n :\n",
    "    j = 1\n",
    "    while j <= i:\n",
    "        print(\"*\", end = \" \")\n",
    "        j += 1\n",
    "    print()\n",
    "    i += 1"
   ]
  },
  {
   "cell_type": "code",
   "execution_count": 22,
   "id": "da567bea",
   "metadata": {},
   "outputs": [],
   "source": [
    "# Q7. Reverse a while loop to display numbers from 10 to 1."
   ]
  },
  {
   "cell_type": "code",
   "execution_count": 5,
   "id": "1f62d070",
   "metadata": {},
   "outputs": [
    {
     "name": "stdout",
     "output_type": "stream",
     "text": [
      "10\n",
      "9\n",
      "8\n",
      "7\n",
      "6\n",
      "5\n",
      "4\n",
      "3\n",
      "2\n",
      "1\n"
     ]
    }
   ],
   "source": [
    "i=11\n",
    "while i>1:\n",
    "    i=i-1\n",
    "    print(i)"
   ]
  },
  {
   "cell_type": "code",
   "execution_count": null,
   "id": "ebf60c49",
   "metadata": {},
   "outputs": [],
   "source": []
  }
 ],
 "metadata": {
  "kernelspec": {
   "display_name": "Python 3 (ipykernel)",
   "language": "python",
   "name": "python3"
  },
  "language_info": {
   "codemirror_mode": {
    "name": "ipython",
    "version": 3
   },
   "file_extension": ".py",
   "mimetype": "text/x-python",
   "name": "python",
   "nbconvert_exporter": "python",
   "pygments_lexer": "ipython3",
   "version": "3.9.7"
  }
 },
 "nbformat": 4,
 "nbformat_minor": 5
}
